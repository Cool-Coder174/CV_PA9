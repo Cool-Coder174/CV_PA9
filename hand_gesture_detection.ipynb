{
 "cells": [
  {
   "metadata": {},
   "cell_type": "markdown",
   "source": [
    "# Hand Gesture Detection with YOLO\n",
    "This notebook demonstrates how to:\n",
    "1. Set up the environment\n",
    "2. Prepare the dataset\n",
    "3. Train the YOLO model\n",
    "4. Export the trained model\n",
    "5. Run real-time hand gesture detection"
   ],
   "id": "72c695404a74f50f"
  },
  {
   "metadata": {},
   "cell_type": "markdown",
   "source": "## 1. Install Required Dependencies",
   "id": "de88118b9881c26c"
  },
  {
   "metadata": {},
   "cell_type": "code",
   "outputs": [],
   "execution_count": null,
   "source": [
    "!pip install ultralytics\n",
    "!pip install opencv-python"
   ],
   "id": "36e84387821f4230"
  },
  {
   "metadata": {},
   "cell_type": "code",
   "outputs": [],
   "execution_count": null,
   "source": [
    "import cv2\n",
    "from ultralytics import YOLO\n",
    "import os\n",
    "import yaml"
   ],
   "id": "f3d48cd6a5f0c1c9"
  },
  {
   "metadata": {},
   "cell_type": "markdown",
   "source": [
    "## 2. Dataset Configuration\n",
    "Make sure your dataset follows the YOLO format and create a YAML configuration file."
   ],
   "id": "3a2861f1bfb7837b"
  },
  {
   "metadata": {},
   "cell_type": "code",
   "outputs": [],
   "execution_count": null,
   "source": [
    "dataset_config = {\n",
    "    'path': 'path/to/dataset',  # Replace with your dataset path\n",
    "    'train': 'train/images',\n",
    "    'val': 'valid/images',\n",
    "    'test': 'test/images',\n",
    "\n",
    "    'names': {\n",
    "        0: 'hand',  # Replace with your class names\n",
    "    },\n",
    "\n",
    "    'nc': 1  # Number of classes\n",
    "}\n",
    "\n",
    "with open('hand-keypoints.yaml', 'w') as f:\n",
    "    yaml.dump(dataset_config, f)"
   ],
   "id": "5f9a4f0e454718b7"
  },
  {
   "metadata": {},
   "cell_type": "markdown",
   "source": "## 3. Train the Model",
   "id": "1b0bf0dcd9edd3cd"
  },
  {
   "metadata": {},
   "cell_type": "code",
   "outputs": [],
   "execution_count": null,
   "source": [
    "model = YOLO('yolov8n-pose.pt')\n",
    "\n",
    "results = model.train(\n",
    "    data='hand-keypoints.yaml',\n",
    "    epochs=10,\n",
    "    imgsz=640,\n",
    "    patience=5,\n",
    "    batch=16,\n",
    "    save=True\n",
    ")"
   ],
   "id": "f5874ca7a41b4cba"
  },
  {
   "metadata": {},
   "cell_type": "markdown",
   "source": "## 4. Export the Trained Model",
   "id": "be21a5a65420341a"
  },
  {
   "metadata": {},
   "cell_type": "code",
   "outputs": [],
   "execution_count": null,
   "source": [
    "model.export(format='onnx')\n",
    "print(\"Model exported successfully!\")"
   ],
   "id": "5f44fd02dca0a6ff"
  },
  {
   "metadata": {},
   "cell_type": "markdown",
   "source": "## 5. Real-time Han",
   "id": "ab9d925e04621922"
  },
  {
   "metadata": {},
   "cell_type": "code",
   "outputs": [],
   "execution_count": null,
   "source": [
    "def run_detection():\n",
    "    model = YOLO('runs/train/weights/best.pt')\n",
    "    cap = cv2.VideoCapture(0)\n",
    "\n",
    "    try:\n",
    "        while cap.isOpened():\n",
    "            ret, frame = cap.read()\n",
    "            if not ret:\n",
    "                break\n",
    "\n",
    "            results = model.predict(source=frame, save=False, show=False)\n",
    "            annotated_frame = results[0].plot()\n",
    "\n",
    "            cv2.imshow(\"Hand Gesture Detection\", annotated_frame)\n",
    "\n",
    "            if cv2.waitKey(1) & 0xFF == ord('q'):\n",
    "                break\n",
    "\n",
    "    finally:\n",
    "        cap.release()\n",
    "        cv2.destroyAllWindows()"
   ],
   "id": "7e6d18a469c349bb"
  },
  {
   "metadata": {},
   "cell_type": "code",
   "outputs": [],
   "execution_count": null,
   "source": [
    "if __name__ == \"__main__\":\n",
    "    run_detection()"
   ],
   "id": "814e43c74a6b2f7b"
  }
 ],
 "metadata": {
  "kernelspec": {
   "display_name": "Python 3",
   "language": "python",
   "name": "python3"
  },
  "language_info": {
   "codemirror_mode": {
    "name": "ipython",
    "version": 2
   },
   "file_extension": ".py",
   "mimetype": "text/x-python",
   "name": "python",
   "nbconvert_exporter": "python",
   "pygments_lexer": "ipython2",
   "version": "2.7.6"
  }
 },
 "nbformat": 4,
 "nbformat_minor": 5
}
